{
 "cells": [
  {
   "cell_type": "code",
   "execution_count": 1,
   "id": "c60eea8c",
   "metadata": {},
   "outputs": [],
   "source": [
    "import pandas as pd\n",
    "\n",
    "airbnbb = pd.read_csv(r\"C:\\Users\\antho\\OneDrive\\Υπολογιστής\\Ανθούλα\\projects\\python\\Airbnb project\\barcelona_airbnb.csv\")\n",
    "airbnbm = pd.read_csv(r\"C:\\Users\\antho\\OneDrive\\Υπολογιστής\\Ανθούλα\\projects\\python\\Airbnb project\\madrid_airbnb.csv\")"
   ]
  },
  {
   "cell_type": "code",
   "execution_count": 2,
   "id": "727d09c9",
   "metadata": {},
   "outputs": [
    {
     "data": {
      "text/html": [
       "<div>\n",
       "<style scoped>\n",
       "    .dataframe tbody tr th:only-of-type {\n",
       "        vertical-align: middle;\n",
       "    }\n",
       "\n",
       "    .dataframe tbody tr th {\n",
       "        vertical-align: top;\n",
       "    }\n",
       "\n",
       "    .dataframe thead th {\n",
       "        text-align: right;\n",
       "    }\n",
       "</style>\n",
       "<table border=\"1\" class=\"dataframe\">\n",
       "  <thead>\n",
       "    <tr style=\"text-align: right;\">\n",
       "      <th></th>\n",
       "      <th>id</th>\n",
       "      <th>name</th>\n",
       "      <th>host_id</th>\n",
       "      <th>host_name</th>\n",
       "      <th>neighbourhood_group</th>\n",
       "      <th>neighbourhood</th>\n",
       "      <th>latitude</th>\n",
       "      <th>longitude</th>\n",
       "      <th>room_type</th>\n",
       "      <th>price</th>\n",
       "      <th>minimum_nights</th>\n",
       "      <th>number_of_reviews</th>\n",
       "      <th>last_review</th>\n",
       "      <th>reviews_per_month</th>\n",
       "      <th>calculated_host_listings_count</th>\n",
       "      <th>availability_365</th>\n",
       "      <th>number_of_reviews_ltm</th>\n",
       "      <th>license</th>\n",
       "    </tr>\n",
       "  </thead>\n",
       "  <tbody>\n",
       "    <tr>\n",
       "      <th>0</th>\n",
       "      <td>17475</td>\n",
       "      <td>Rental unit in 08013 Barcelona · ★4.40 · 1 bed...</td>\n",
       "      <td>65623</td>\n",
       "      <td>Luca</td>\n",
       "      <td>Eixample</td>\n",
       "      <td>la Dreta de l'Eixample</td>\n",
       "      <td>41.399390</td>\n",
       "      <td>2.170440</td>\n",
       "      <td>Entire home/apt</td>\n",
       "      <td>140.0</td>\n",
       "      <td>5</td>\n",
       "      <td>26</td>\n",
       "      <td>2023-12-04</td>\n",
       "      <td>0.16</td>\n",
       "      <td>1</td>\n",
       "      <td>32</td>\n",
       "      <td>9</td>\n",
       "      <td>NaN</td>\n",
       "    </tr>\n",
       "    <tr>\n",
       "      <th>1</th>\n",
       "      <td>18674</td>\n",
       "      <td>Rental unit in Barcelona · ★4.33 · 3 bedrooms ...</td>\n",
       "      <td>71615</td>\n",
       "      <td>Mireia  Maria</td>\n",
       "      <td>Eixample</td>\n",
       "      <td>la Sagrada Família</td>\n",
       "      <td>41.405560</td>\n",
       "      <td>2.172620</td>\n",
       "      <td>Entire home/apt</td>\n",
       "      <td>121.0</td>\n",
       "      <td>1</td>\n",
       "      <td>40</td>\n",
       "      <td>2023-11-07</td>\n",
       "      <td>0.31</td>\n",
       "      <td>30</td>\n",
       "      <td>39</td>\n",
       "      <td>7</td>\n",
       "      <td>HUTB-002062</td>\n",
       "    </tr>\n",
       "    <tr>\n",
       "      <th>2</th>\n",
       "      <td>198958</td>\n",
       "      <td>Rental unit in Barcelona · ★4.69 · 4 bedrooms ...</td>\n",
       "      <td>971768</td>\n",
       "      <td>Laura</td>\n",
       "      <td>Sant Martí</td>\n",
       "      <td>Diagonal Mar i el Front Marítim del Poblenou</td>\n",
       "      <td>41.408050</td>\n",
       "      <td>2.214870</td>\n",
       "      <td>Entire home/apt</td>\n",
       "      <td>304.0</td>\n",
       "      <td>2</td>\n",
       "      <td>105</td>\n",
       "      <td>2023-10-16</td>\n",
       "      <td>0.74</td>\n",
       "      <td>9</td>\n",
       "      <td>137</td>\n",
       "      <td>26</td>\n",
       "      <td>HUTB-000926</td>\n",
       "    </tr>\n",
       "    <tr>\n",
       "      <th>3</th>\n",
       "      <td>23197</td>\n",
       "      <td>Rental unit in Sant Adria de Besos · ★4.77 · 3...</td>\n",
       "      <td>90417</td>\n",
       "      <td>Etain (Marnie)</td>\n",
       "      <td>Sant Martí</td>\n",
       "      <td>el Besòs i el Maresme</td>\n",
       "      <td>41.412432</td>\n",
       "      <td>2.219750</td>\n",
       "      <td>Entire home/apt</td>\n",
       "      <td>200.0</td>\n",
       "      <td>3</td>\n",
       "      <td>75</td>\n",
       "      <td>2023-11-25</td>\n",
       "      <td>0.48</td>\n",
       "      <td>2</td>\n",
       "      <td>300</td>\n",
       "      <td>11</td>\n",
       "      <td>HUTB005057</td>\n",
       "    </tr>\n",
       "    <tr>\n",
       "      <th>4</th>\n",
       "      <td>32711</td>\n",
       "      <td>Rental unit in Barcelona · ★4.48 · 2 bedrooms ...</td>\n",
       "      <td>135703</td>\n",
       "      <td>Nick</td>\n",
       "      <td>Gràcia</td>\n",
       "      <td>el Camp d'en Grassot i Gràcia Nova</td>\n",
       "      <td>41.405660</td>\n",
       "      <td>2.170150</td>\n",
       "      <td>Entire home/apt</td>\n",
       "      <td>79.0</td>\n",
       "      <td>1</td>\n",
       "      <td>99</td>\n",
       "      <td>2023-10-18</td>\n",
       "      <td>0.66</td>\n",
       "      <td>3</td>\n",
       "      <td>297</td>\n",
       "      <td>16</td>\n",
       "      <td>HUTB-001722</td>\n",
       "    </tr>\n",
       "    <tr>\n",
       "      <th>...</th>\n",
       "      <td>...</td>\n",
       "      <td>...</td>\n",
       "      <td>...</td>\n",
       "      <td>...</td>\n",
       "      <td>...</td>\n",
       "      <td>...</td>\n",
       "      <td>...</td>\n",
       "      <td>...</td>\n",
       "      <td>...</td>\n",
       "      <td>...</td>\n",
       "      <td>...</td>\n",
       "      <td>...</td>\n",
       "      <td>...</td>\n",
       "      <td>...</td>\n",
       "      <td>...</td>\n",
       "      <td>...</td>\n",
       "      <td>...</td>\n",
       "      <td>...</td>\n",
       "    </tr>\n",
       "    <tr>\n",
       "      <th>18316</th>\n",
       "      <td>1042002618810922779</td>\n",
       "      <td>Rental unit in Barcelona · ★New · 2 bedrooms ·...</td>\n",
       "      <td>3556337</td>\n",
       "      <td>Alejandro</td>\n",
       "      <td>Eixample</td>\n",
       "      <td>l'Antiga Esquerra de l'Eixample</td>\n",
       "      <td>41.388694</td>\n",
       "      <td>2.162324</td>\n",
       "      <td>Entire home/apt</td>\n",
       "      <td>143.0</td>\n",
       "      <td>1</td>\n",
       "      <td>0</td>\n",
       "      <td>NaN</td>\n",
       "      <td>NaN</td>\n",
       "      <td>51</td>\n",
       "      <td>364</td>\n",
       "      <td>0</td>\n",
       "      <td>HUTB-007296</td>\n",
       "    </tr>\n",
       "    <tr>\n",
       "      <th>18317</th>\n",
       "      <td>1042044489456901435</td>\n",
       "      <td>Rental unit in Barcelona · ★New · 3 bedrooms ·...</td>\n",
       "      <td>93833963</td>\n",
       "      <td>Maria</td>\n",
       "      <td>Horta-Guinardó</td>\n",
       "      <td>el Guinardó</td>\n",
       "      <td>41.422690</td>\n",
       "      <td>2.176110</td>\n",
       "      <td>Private room</td>\n",
       "      <td>96.0</td>\n",
       "      <td>32</td>\n",
       "      <td>0</td>\n",
       "      <td>NaN</td>\n",
       "      <td>NaN</td>\n",
       "      <td>6</td>\n",
       "      <td>268</td>\n",
       "      <td>0</td>\n",
       "      <td>Exempt</td>\n",
       "    </tr>\n",
       "    <tr>\n",
       "      <th>18318</th>\n",
       "      <td>1042051147106602685</td>\n",
       "      <td>Rental unit in Barcelona · ★New · 2 bedrooms ·...</td>\n",
       "      <td>66296022</td>\n",
       "      <td>Toni</td>\n",
       "      <td>Ciutat Vella</td>\n",
       "      <td>la Barceloneta</td>\n",
       "      <td>41.380426</td>\n",
       "      <td>2.191397</td>\n",
       "      <td>Entire home/apt</td>\n",
       "      <td>75.0</td>\n",
       "      <td>32</td>\n",
       "      <td>0</td>\n",
       "      <td>NaN</td>\n",
       "      <td>NaN</td>\n",
       "      <td>12</td>\n",
       "      <td>364</td>\n",
       "      <td>0</td>\n",
       "      <td>NaN</td>\n",
       "    </tr>\n",
       "    <tr>\n",
       "      <th>18319</th>\n",
       "      <td>1042053373256947884</td>\n",
       "      <td>Rental unit in Barcelona · ★New · 1 bedroom · ...</td>\n",
       "      <td>478007968</td>\n",
       "      <td>Morge</td>\n",
       "      <td>Eixample</td>\n",
       "      <td>la Sagrada Família</td>\n",
       "      <td>41.401691</td>\n",
       "      <td>2.176437</td>\n",
       "      <td>Private room</td>\n",
       "      <td>70.0</td>\n",
       "      <td>2</td>\n",
       "      <td>0</td>\n",
       "      <td>NaN</td>\n",
       "      <td>NaN</td>\n",
       "      <td>23</td>\n",
       "      <td>266</td>\n",
       "      <td>0</td>\n",
       "      <td>HUTB-784673</td>\n",
       "    </tr>\n",
       "    <tr>\n",
       "      <th>18320</th>\n",
       "      <td>1042326162660164787</td>\n",
       "      <td>Rental unit in Barcelona · ★New · 2 bedrooms ·...</td>\n",
       "      <td>731009</td>\n",
       "      <td>Marc</td>\n",
       "      <td>Sants-Montjuïc</td>\n",
       "      <td>Hostafrancs</td>\n",
       "      <td>41.377490</td>\n",
       "      <td>2.143060</td>\n",
       "      <td>Entire home/apt</td>\n",
       "      <td>50.0</td>\n",
       "      <td>31</td>\n",
       "      <td>0</td>\n",
       "      <td>NaN</td>\n",
       "      <td>NaN</td>\n",
       "      <td>16</td>\n",
       "      <td>226</td>\n",
       "      <td>0</td>\n",
       "      <td>NaN</td>\n",
       "    </tr>\n",
       "  </tbody>\n",
       "</table>\n",
       "<p>18321 rows × 18 columns</p>\n",
       "</div>"
      ],
      "text/plain": [
       "                        id                                               name  \\\n",
       "0                    17475  Rental unit in 08013 Barcelona · ★4.40 · 1 bed...   \n",
       "1                    18674  Rental unit in Barcelona · ★4.33 · 3 bedrooms ...   \n",
       "2                   198958  Rental unit in Barcelona · ★4.69 · 4 bedrooms ...   \n",
       "3                    23197  Rental unit in Sant Adria de Besos · ★4.77 · 3...   \n",
       "4                    32711  Rental unit in Barcelona · ★4.48 · 2 bedrooms ...   \n",
       "...                    ...                                                ...   \n",
       "18316  1042002618810922779  Rental unit in Barcelona · ★New · 2 bedrooms ·...   \n",
       "18317  1042044489456901435  Rental unit in Barcelona · ★New · 3 bedrooms ·...   \n",
       "18318  1042051147106602685  Rental unit in Barcelona · ★New · 2 bedrooms ·...   \n",
       "18319  1042053373256947884  Rental unit in Barcelona · ★New · 1 bedroom · ...   \n",
       "18320  1042326162660164787  Rental unit in Barcelona · ★New · 2 bedrooms ·...   \n",
       "\n",
       "         host_id       host_name neighbourhood_group  \\\n",
       "0          65623            Luca            Eixample   \n",
       "1          71615   Mireia  Maria            Eixample   \n",
       "2         971768           Laura          Sant Martí   \n",
       "3          90417  Etain (Marnie)          Sant Martí   \n",
       "4         135703            Nick              Gràcia   \n",
       "...          ...             ...                 ...   \n",
       "18316    3556337       Alejandro            Eixample   \n",
       "18317   93833963           Maria      Horta-Guinardó   \n",
       "18318   66296022            Toni        Ciutat Vella   \n",
       "18319  478007968           Morge            Eixample   \n",
       "18320     731009            Marc      Sants-Montjuïc   \n",
       "\n",
       "                                      neighbourhood   latitude  longitude  \\\n",
       "0                            la Dreta de l'Eixample  41.399390   2.170440   \n",
       "1                                la Sagrada Família  41.405560   2.172620   \n",
       "2      Diagonal Mar i el Front Marítim del Poblenou  41.408050   2.214870   \n",
       "3                             el Besòs i el Maresme  41.412432   2.219750   \n",
       "4                el Camp d'en Grassot i Gràcia Nova  41.405660   2.170150   \n",
       "...                                             ...        ...        ...   \n",
       "18316               l'Antiga Esquerra de l'Eixample  41.388694   2.162324   \n",
       "18317                                   el Guinardó  41.422690   2.176110   \n",
       "18318                                la Barceloneta  41.380426   2.191397   \n",
       "18319                            la Sagrada Família  41.401691   2.176437   \n",
       "18320                                   Hostafrancs  41.377490   2.143060   \n",
       "\n",
       "             room_type  price  minimum_nights  number_of_reviews last_review  \\\n",
       "0      Entire home/apt  140.0               5                 26  2023-12-04   \n",
       "1      Entire home/apt  121.0               1                 40  2023-11-07   \n",
       "2      Entire home/apt  304.0               2                105  2023-10-16   \n",
       "3      Entire home/apt  200.0               3                 75  2023-11-25   \n",
       "4      Entire home/apt   79.0               1                 99  2023-10-18   \n",
       "...                ...    ...             ...                ...         ...   \n",
       "18316  Entire home/apt  143.0               1                  0         NaN   \n",
       "18317     Private room   96.0              32                  0         NaN   \n",
       "18318  Entire home/apt   75.0              32                  0         NaN   \n",
       "18319     Private room   70.0               2                  0         NaN   \n",
       "18320  Entire home/apt   50.0              31                  0         NaN   \n",
       "\n",
       "       reviews_per_month  calculated_host_listings_count  availability_365  \\\n",
       "0                   0.16                               1                32   \n",
       "1                   0.31                              30                39   \n",
       "2                   0.74                               9               137   \n",
       "3                   0.48                               2               300   \n",
       "4                   0.66                               3               297   \n",
       "...                  ...                             ...               ...   \n",
       "18316                NaN                              51               364   \n",
       "18317                NaN                               6               268   \n",
       "18318                NaN                              12               364   \n",
       "18319                NaN                              23               266   \n",
       "18320                NaN                              16               226   \n",
       "\n",
       "       number_of_reviews_ltm      license  \n",
       "0                          9          NaN  \n",
       "1                          7  HUTB-002062  \n",
       "2                         26  HUTB-000926  \n",
       "3                         11   HUTB005057  \n",
       "4                         16  HUTB-001722  \n",
       "...                      ...          ...  \n",
       "18316                      0  HUTB-007296  \n",
       "18317                      0       Exempt  \n",
       "18318                      0          NaN  \n",
       "18319                      0  HUTB-784673  \n",
       "18320                      0          NaN  \n",
       "\n",
       "[18321 rows x 18 columns]"
      ]
     },
     "execution_count": 2,
     "metadata": {},
     "output_type": "execute_result"
    }
   ],
   "source": [
    "airbnbb"
   ]
  },
  {
   "cell_type": "markdown",
   "id": "c9a9fc63",
   "metadata": {},
   "source": [
    "# Data cleaning"
   ]
  },
  {
   "cell_type": "markdown",
   "id": "a7be2c8f",
   "metadata": {},
   "source": [
    "First of all, we have to see that we have 18086 unique ids (the first column \"id\") for each airbnb in Barcelona."
   ]
  },
  {
   "cell_type": "code",
   "execution_count": 3,
   "id": "93d54acf",
   "metadata": {},
   "outputs": [
    {
     "data": {
      "text/plain": [
       "18321"
      ]
     },
     "execution_count": 3,
     "metadata": {},
     "output_type": "execute_result"
    }
   ],
   "source": [
    "airbnbb['id'].nunique()"
   ]
  },
  {
   "cell_type": "code",
   "execution_count": 4,
   "id": "4ab946e9",
   "metadata": {},
   "outputs": [
    {
     "data": {
      "text/plain": [
       "id                                  int64\n",
       "name                               object\n",
       "host_id                             int64\n",
       "host_name                          object\n",
       "neighbourhood_group                object\n",
       "neighbourhood                      object\n",
       "latitude                          float64\n",
       "longitude                         float64\n",
       "room_type                          object\n",
       "price                             float64\n",
       "minimum_nights                      int64\n",
       "number_of_reviews                   int64\n",
       "last_review                        object\n",
       "reviews_per_month                 float64\n",
       "calculated_host_listings_count      int64\n",
       "availability_365                    int64\n",
       "number_of_reviews_ltm               int64\n",
       "license                            object\n",
       "dtype: object"
      ]
     },
     "execution_count": 4,
     "metadata": {},
     "output_type": "execute_result"
    }
   ],
   "source": [
    "airbnbb.dtypes"
   ]
  },
  {
   "cell_type": "markdown",
   "id": "0056f877",
   "metadata": {},
   "source": [
    "Fill the NaN values of minimum_nights, number_of_reviews, reviews_per_month, calculated_host_listings_count, availability_365 columns with measurable values."
   ]
  },
  {
   "cell_type": "code",
   "execution_count": 5,
   "id": "d12e4717",
   "metadata": {},
   "outputs": [],
   "source": [
    "airbnbb['minimum_nights'] = airbnbb['minimum_nights'].fillna(1)\n",
    "airbnbb['number_of_reviews'] = airbnbb['number_of_reviews'].fillna(0)\n",
    "airbnbb['reviews_per_month'] = airbnbb['reviews_per_month'].fillna(0)\n",
    "airbnbb['calculated_host_listings_count'] = airbnbb['calculated_host_listings_count'].fillna(0)\n",
    "airbnbb['availability_365'] = airbnbb['availability_365'].fillna(0)"
   ]
  },
  {
   "cell_type": "markdown",
   "id": "50d10ef2",
   "metadata": {},
   "source": [
    "We have to check if the values of price, minimum_nights, number_of_reviews, reviews_per_month, calculated_host_listings_count are equal to or greater than 0."
   ]
  },
  {
   "cell_type": "code",
   "execution_count": 6,
   "id": "288fd629",
   "metadata": {},
   "outputs": [
    {
     "name": "stdout",
     "output_type": "stream",
     "text": [
      "Non-negative of price: 16056 \n",
      "Non-negative of minimum nights: 18321 \n",
      "Non-negative of number of reviews: 18321 \n",
      "Non-negative of reviews per month: 18321 \n",
      "Non-negative of number of host listings count: 18321\n"
     ]
    }
   ],
   "source": [
    "x0 = airbnbb[airbnbb.price >= 0].shape[0]\n",
    "x1 = airbnbb[airbnbb.minimum_nights >= 0].shape[0]\n",
    "x2 = airbnbb[airbnbb.number_of_reviews >= 0].shape[0]\n",
    "x3 = airbnbb[airbnbb.reviews_per_month >= 0].shape[0]\n",
    "x4 = airbnbb[airbnbb.calculated_host_listings_count >= 0].shape[0]\n",
    "print(\"Non-negative of price:\", x0, \"\\nNon-negative of minimum nights:\", x1, \"\\nNon-negative of number of reviews:\", x2, \"\\nNon-negative of reviews per month:\", x3, \"\\nNon-negative of number of host listings count:\", x4)"
   ]
  },
  {
   "cell_type": "code",
   "execution_count": 7,
   "id": "077d0720",
   "metadata": {},
   "outputs": [
    {
     "data": {
      "text/plain": [
       "2265"
      ]
     },
     "execution_count": 7,
     "metadata": {},
     "output_type": "execute_result"
    }
   ],
   "source": [
    "airbnbb['price'].isnull().sum()"
   ]
  },
  {
   "cell_type": "markdown",
   "id": "227db4f3",
   "metadata": {},
   "source": [
    "We remove the rows with a null value in price column."
   ]
  },
  {
   "cell_type": "code",
   "execution_count": 8,
   "id": "b800f093",
   "metadata": {},
   "outputs": [
    {
     "data": {
      "text/html": [
       "<div>\n",
       "<style scoped>\n",
       "    .dataframe tbody tr th:only-of-type {\n",
       "        vertical-align: middle;\n",
       "    }\n",
       "\n",
       "    .dataframe tbody tr th {\n",
       "        vertical-align: top;\n",
       "    }\n",
       "\n",
       "    .dataframe thead th {\n",
       "        text-align: right;\n",
       "    }\n",
       "</style>\n",
       "<table border=\"1\" class=\"dataframe\">\n",
       "  <thead>\n",
       "    <tr style=\"text-align: right;\">\n",
       "      <th></th>\n",
       "      <th>id</th>\n",
       "      <th>name</th>\n",
       "      <th>host_id</th>\n",
       "      <th>host_name</th>\n",
       "      <th>neighbourhood_group</th>\n",
       "      <th>neighbourhood</th>\n",
       "      <th>latitude</th>\n",
       "      <th>longitude</th>\n",
       "      <th>room_type</th>\n",
       "      <th>price</th>\n",
       "      <th>minimum_nights</th>\n",
       "      <th>number_of_reviews</th>\n",
       "      <th>last_review</th>\n",
       "      <th>reviews_per_month</th>\n",
       "      <th>calculated_host_listings_count</th>\n",
       "      <th>availability_365</th>\n",
       "      <th>number_of_reviews_ltm</th>\n",
       "      <th>license</th>\n",
       "    </tr>\n",
       "  </thead>\n",
       "  <tbody>\n",
       "    <tr>\n",
       "      <th>0</th>\n",
       "      <td>17475</td>\n",
       "      <td>Rental unit in 08013 Barcelona · ★4.40 · 1 bed...</td>\n",
       "      <td>65623</td>\n",
       "      <td>Luca</td>\n",
       "      <td>Eixample</td>\n",
       "      <td>la Dreta de l'Eixample</td>\n",
       "      <td>41.399390</td>\n",
       "      <td>2.170440</td>\n",
       "      <td>Entire home/apt</td>\n",
       "      <td>140.0</td>\n",
       "      <td>5</td>\n",
       "      <td>26</td>\n",
       "      <td>2023-12-04</td>\n",
       "      <td>0.16</td>\n",
       "      <td>1</td>\n",
       "      <td>32</td>\n",
       "      <td>9</td>\n",
       "      <td>NaN</td>\n",
       "    </tr>\n",
       "    <tr>\n",
       "      <th>1</th>\n",
       "      <td>18674</td>\n",
       "      <td>Rental unit in Barcelona · ★4.33 · 3 bedrooms ...</td>\n",
       "      <td>71615</td>\n",
       "      <td>Mireia  Maria</td>\n",
       "      <td>Eixample</td>\n",
       "      <td>la Sagrada Família</td>\n",
       "      <td>41.405560</td>\n",
       "      <td>2.172620</td>\n",
       "      <td>Entire home/apt</td>\n",
       "      <td>121.0</td>\n",
       "      <td>1</td>\n",
       "      <td>40</td>\n",
       "      <td>2023-11-07</td>\n",
       "      <td>0.31</td>\n",
       "      <td>30</td>\n",
       "      <td>39</td>\n",
       "      <td>7</td>\n",
       "      <td>HUTB-002062</td>\n",
       "    </tr>\n",
       "    <tr>\n",
       "      <th>2</th>\n",
       "      <td>198958</td>\n",
       "      <td>Rental unit in Barcelona · ★4.69 · 4 bedrooms ...</td>\n",
       "      <td>971768</td>\n",
       "      <td>Laura</td>\n",
       "      <td>Sant Martí</td>\n",
       "      <td>Diagonal Mar i el Front Marítim del Poblenou</td>\n",
       "      <td>41.408050</td>\n",
       "      <td>2.214870</td>\n",
       "      <td>Entire home/apt</td>\n",
       "      <td>304.0</td>\n",
       "      <td>2</td>\n",
       "      <td>105</td>\n",
       "      <td>2023-10-16</td>\n",
       "      <td>0.74</td>\n",
       "      <td>9</td>\n",
       "      <td>137</td>\n",
       "      <td>26</td>\n",
       "      <td>HUTB-000926</td>\n",
       "    </tr>\n",
       "    <tr>\n",
       "      <th>3</th>\n",
       "      <td>23197</td>\n",
       "      <td>Rental unit in Sant Adria de Besos · ★4.77 · 3...</td>\n",
       "      <td>90417</td>\n",
       "      <td>Etain (Marnie)</td>\n",
       "      <td>Sant Martí</td>\n",
       "      <td>el Besòs i el Maresme</td>\n",
       "      <td>41.412432</td>\n",
       "      <td>2.219750</td>\n",
       "      <td>Entire home/apt</td>\n",
       "      <td>200.0</td>\n",
       "      <td>3</td>\n",
       "      <td>75</td>\n",
       "      <td>2023-11-25</td>\n",
       "      <td>0.48</td>\n",
       "      <td>2</td>\n",
       "      <td>300</td>\n",
       "      <td>11</td>\n",
       "      <td>HUTB005057</td>\n",
       "    </tr>\n",
       "    <tr>\n",
       "      <th>4</th>\n",
       "      <td>32711</td>\n",
       "      <td>Rental unit in Barcelona · ★4.48 · 2 bedrooms ...</td>\n",
       "      <td>135703</td>\n",
       "      <td>Nick</td>\n",
       "      <td>Gràcia</td>\n",
       "      <td>el Camp d'en Grassot i Gràcia Nova</td>\n",
       "      <td>41.405660</td>\n",
       "      <td>2.170150</td>\n",
       "      <td>Entire home/apt</td>\n",
       "      <td>79.0</td>\n",
       "      <td>1</td>\n",
       "      <td>99</td>\n",
       "      <td>2023-10-18</td>\n",
       "      <td>0.66</td>\n",
       "      <td>3</td>\n",
       "      <td>297</td>\n",
       "      <td>16</td>\n",
       "      <td>HUTB-001722</td>\n",
       "    </tr>\n",
       "    <tr>\n",
       "      <th>...</th>\n",
       "      <td>...</td>\n",
       "      <td>...</td>\n",
       "      <td>...</td>\n",
       "      <td>...</td>\n",
       "      <td>...</td>\n",
       "      <td>...</td>\n",
       "      <td>...</td>\n",
       "      <td>...</td>\n",
       "      <td>...</td>\n",
       "      <td>...</td>\n",
       "      <td>...</td>\n",
       "      <td>...</td>\n",
       "      <td>...</td>\n",
       "      <td>...</td>\n",
       "      <td>...</td>\n",
       "      <td>...</td>\n",
       "      <td>...</td>\n",
       "      <td>...</td>\n",
       "    </tr>\n",
       "    <tr>\n",
       "      <th>18316</th>\n",
       "      <td>1042002618810922779</td>\n",
       "      <td>Rental unit in Barcelona · ★New · 2 bedrooms ·...</td>\n",
       "      <td>3556337</td>\n",
       "      <td>Alejandro</td>\n",
       "      <td>Eixample</td>\n",
       "      <td>l'Antiga Esquerra de l'Eixample</td>\n",
       "      <td>41.388694</td>\n",
       "      <td>2.162324</td>\n",
       "      <td>Entire home/apt</td>\n",
       "      <td>143.0</td>\n",
       "      <td>1</td>\n",
       "      <td>0</td>\n",
       "      <td>NaN</td>\n",
       "      <td>0.00</td>\n",
       "      <td>51</td>\n",
       "      <td>364</td>\n",
       "      <td>0</td>\n",
       "      <td>HUTB-007296</td>\n",
       "    </tr>\n",
       "    <tr>\n",
       "      <th>18317</th>\n",
       "      <td>1042044489456901435</td>\n",
       "      <td>Rental unit in Barcelona · ★New · 3 bedrooms ·...</td>\n",
       "      <td>93833963</td>\n",
       "      <td>Maria</td>\n",
       "      <td>Horta-Guinardó</td>\n",
       "      <td>el Guinardó</td>\n",
       "      <td>41.422690</td>\n",
       "      <td>2.176110</td>\n",
       "      <td>Private room</td>\n",
       "      <td>96.0</td>\n",
       "      <td>32</td>\n",
       "      <td>0</td>\n",
       "      <td>NaN</td>\n",
       "      <td>0.00</td>\n",
       "      <td>6</td>\n",
       "      <td>268</td>\n",
       "      <td>0</td>\n",
       "      <td>Exempt</td>\n",
       "    </tr>\n",
       "    <tr>\n",
       "      <th>18318</th>\n",
       "      <td>1042051147106602685</td>\n",
       "      <td>Rental unit in Barcelona · ★New · 2 bedrooms ·...</td>\n",
       "      <td>66296022</td>\n",
       "      <td>Toni</td>\n",
       "      <td>Ciutat Vella</td>\n",
       "      <td>la Barceloneta</td>\n",
       "      <td>41.380426</td>\n",
       "      <td>2.191397</td>\n",
       "      <td>Entire home/apt</td>\n",
       "      <td>75.0</td>\n",
       "      <td>32</td>\n",
       "      <td>0</td>\n",
       "      <td>NaN</td>\n",
       "      <td>0.00</td>\n",
       "      <td>12</td>\n",
       "      <td>364</td>\n",
       "      <td>0</td>\n",
       "      <td>NaN</td>\n",
       "    </tr>\n",
       "    <tr>\n",
       "      <th>18319</th>\n",
       "      <td>1042053373256947884</td>\n",
       "      <td>Rental unit in Barcelona · ★New · 1 bedroom · ...</td>\n",
       "      <td>478007968</td>\n",
       "      <td>Morge</td>\n",
       "      <td>Eixample</td>\n",
       "      <td>la Sagrada Família</td>\n",
       "      <td>41.401691</td>\n",
       "      <td>2.176437</td>\n",
       "      <td>Private room</td>\n",
       "      <td>70.0</td>\n",
       "      <td>2</td>\n",
       "      <td>0</td>\n",
       "      <td>NaN</td>\n",
       "      <td>0.00</td>\n",
       "      <td>23</td>\n",
       "      <td>266</td>\n",
       "      <td>0</td>\n",
       "      <td>HUTB-784673</td>\n",
       "    </tr>\n",
       "    <tr>\n",
       "      <th>18320</th>\n",
       "      <td>1042326162660164787</td>\n",
       "      <td>Rental unit in Barcelona · ★New · 2 bedrooms ·...</td>\n",
       "      <td>731009</td>\n",
       "      <td>Marc</td>\n",
       "      <td>Sants-Montjuïc</td>\n",
       "      <td>Hostafrancs</td>\n",
       "      <td>41.377490</td>\n",
       "      <td>2.143060</td>\n",
       "      <td>Entire home/apt</td>\n",
       "      <td>50.0</td>\n",
       "      <td>31</td>\n",
       "      <td>0</td>\n",
       "      <td>NaN</td>\n",
       "      <td>0.00</td>\n",
       "      <td>16</td>\n",
       "      <td>226</td>\n",
       "      <td>0</td>\n",
       "      <td>NaN</td>\n",
       "    </tr>\n",
       "  </tbody>\n",
       "</table>\n",
       "<p>16056 rows × 18 columns</p>\n",
       "</div>"
      ],
      "text/plain": [
       "                        id                                               name  \\\n",
       "0                    17475  Rental unit in 08013 Barcelona · ★4.40 · 1 bed...   \n",
       "1                    18674  Rental unit in Barcelona · ★4.33 · 3 bedrooms ...   \n",
       "2                   198958  Rental unit in Barcelona · ★4.69 · 4 bedrooms ...   \n",
       "3                    23197  Rental unit in Sant Adria de Besos · ★4.77 · 3...   \n",
       "4                    32711  Rental unit in Barcelona · ★4.48 · 2 bedrooms ...   \n",
       "...                    ...                                                ...   \n",
       "18316  1042002618810922779  Rental unit in Barcelona · ★New · 2 bedrooms ·...   \n",
       "18317  1042044489456901435  Rental unit in Barcelona · ★New · 3 bedrooms ·...   \n",
       "18318  1042051147106602685  Rental unit in Barcelona · ★New · 2 bedrooms ·...   \n",
       "18319  1042053373256947884  Rental unit in Barcelona · ★New · 1 bedroom · ...   \n",
       "18320  1042326162660164787  Rental unit in Barcelona · ★New · 2 bedrooms ·...   \n",
       "\n",
       "         host_id       host_name neighbourhood_group  \\\n",
       "0          65623            Luca            Eixample   \n",
       "1          71615   Mireia  Maria            Eixample   \n",
       "2         971768           Laura          Sant Martí   \n",
       "3          90417  Etain (Marnie)          Sant Martí   \n",
       "4         135703            Nick              Gràcia   \n",
       "...          ...             ...                 ...   \n",
       "18316    3556337       Alejandro            Eixample   \n",
       "18317   93833963           Maria      Horta-Guinardó   \n",
       "18318   66296022            Toni        Ciutat Vella   \n",
       "18319  478007968           Morge            Eixample   \n",
       "18320     731009            Marc      Sants-Montjuïc   \n",
       "\n",
       "                                      neighbourhood   latitude  longitude  \\\n",
       "0                            la Dreta de l'Eixample  41.399390   2.170440   \n",
       "1                                la Sagrada Família  41.405560   2.172620   \n",
       "2      Diagonal Mar i el Front Marítim del Poblenou  41.408050   2.214870   \n",
       "3                             el Besòs i el Maresme  41.412432   2.219750   \n",
       "4                el Camp d'en Grassot i Gràcia Nova  41.405660   2.170150   \n",
       "...                                             ...        ...        ...   \n",
       "18316               l'Antiga Esquerra de l'Eixample  41.388694   2.162324   \n",
       "18317                                   el Guinardó  41.422690   2.176110   \n",
       "18318                                la Barceloneta  41.380426   2.191397   \n",
       "18319                            la Sagrada Família  41.401691   2.176437   \n",
       "18320                                   Hostafrancs  41.377490   2.143060   \n",
       "\n",
       "             room_type  price  minimum_nights  number_of_reviews last_review  \\\n",
       "0      Entire home/apt  140.0               5                 26  2023-12-04   \n",
       "1      Entire home/apt  121.0               1                 40  2023-11-07   \n",
       "2      Entire home/apt  304.0               2                105  2023-10-16   \n",
       "3      Entire home/apt  200.0               3                 75  2023-11-25   \n",
       "4      Entire home/apt   79.0               1                 99  2023-10-18   \n",
       "...                ...    ...             ...                ...         ...   \n",
       "18316  Entire home/apt  143.0               1                  0         NaN   \n",
       "18317     Private room   96.0              32                  0         NaN   \n",
       "18318  Entire home/apt   75.0              32                  0         NaN   \n",
       "18319     Private room   70.0               2                  0         NaN   \n",
       "18320  Entire home/apt   50.0              31                  0         NaN   \n",
       "\n",
       "       reviews_per_month  calculated_host_listings_count  availability_365  \\\n",
       "0                   0.16                               1                32   \n",
       "1                   0.31                              30                39   \n",
       "2                   0.74                               9               137   \n",
       "3                   0.48                               2               300   \n",
       "4                   0.66                               3               297   \n",
       "...                  ...                             ...               ...   \n",
       "18316               0.00                              51               364   \n",
       "18317               0.00                               6               268   \n",
       "18318               0.00                              12               364   \n",
       "18319               0.00                              23               266   \n",
       "18320               0.00                              16               226   \n",
       "\n",
       "       number_of_reviews_ltm      license  \n",
       "0                          9          NaN  \n",
       "1                          7  HUTB-002062  \n",
       "2                         26  HUTB-000926  \n",
       "3                         11   HUTB005057  \n",
       "4                         16  HUTB-001722  \n",
       "...                      ...          ...  \n",
       "18316                      0  HUTB-007296  \n",
       "18317                      0       Exempt  \n",
       "18318                      0          NaN  \n",
       "18319                      0  HUTB-784673  \n",
       "18320                      0          NaN  \n",
       "\n",
       "[16056 rows x 18 columns]"
      ]
     },
     "execution_count": 8,
     "metadata": {},
     "output_type": "execute_result"
    }
   ],
   "source": [
    "airbnbb.dropna(axis=0, subset=['price'])"
   ]
  },
  {
   "cell_type": "markdown",
   "id": "353b5386",
   "metadata": {},
   "source": [
    "Counting how many listings are too expensive for a night."
   ]
  },
  {
   "cell_type": "code",
   "execution_count": 9,
   "id": "e61d43b2",
   "metadata": {},
   "outputs": [
    {
     "data": {
      "text/plain": [
       "271"
      ]
     },
     "execution_count": 9,
     "metadata": {},
     "output_type": "execute_result"
    }
   ],
   "source": [
    "len(airbnbb[airbnbb['price'] >= 500])"
   ]
  },
  {
   "cell_type": "markdown",
   "id": "f70d0116",
   "metadata": {},
   "source": [
    "We also have to check if the values of the availability_365 is between 0 and 365."
   ]
  },
  {
   "cell_type": "code",
   "execution_count": 10,
   "id": "1cc48ae4",
   "metadata": {},
   "outputs": [
    {
     "data": {
      "text/plain": [
       "18321.0"
      ]
     },
     "execution_count": 10,
     "metadata": {},
     "output_type": "execute_result"
    }
   ],
   "source": [
    "(airbnbb[airbnbb.availability_365 >= 0].shape[0] + airbnbb[airbnbb.availability_365 <= 365].shape[0])/2"
   ]
  },
  {
   "cell_type": "markdown",
   "id": "0fe6ab5d",
   "metadata": {},
   "source": [
    "We have to do the same procedure for the dataframe of airbnbs in Madrid."
   ]
  },
  {
   "cell_type": "code",
   "execution_count": 11,
   "id": "3a12b7e2",
   "metadata": {},
   "outputs": [
    {
     "data": {
      "text/plain": [
       "24828"
      ]
     },
     "execution_count": 11,
     "metadata": {},
     "output_type": "execute_result"
    }
   ],
   "source": [
    "airbnbm['id'].nunique()"
   ]
  },
  {
   "cell_type": "code",
   "execution_count": 12,
   "id": "5b88d713",
   "metadata": {},
   "outputs": [],
   "source": [
    "airbnbm['minimum_nights'] = airbnbm['minimum_nights'].fillna(1)\n",
    "airbnbm['number_of_reviews'] = airbnbm['number_of_reviews'].fillna(0)\n",
    "airbnbm['reviews_per_month'] = airbnbm['reviews_per_month'].fillna(0)\n",
    "airbnbm['calculated_host_listings_count'] = airbnbm['calculated_host_listings_count'].fillna(0)\n",
    "airbnbm['availability_365'] = airbnbm['availability_365'].fillna(0)"
   ]
  },
  {
   "cell_type": "code",
   "execution_count": 13,
   "id": "67a125c5",
   "metadata": {},
   "outputs": [
    {
     "name": "stdout",
     "output_type": "stream",
     "text": [
      "Non-negative of price: 24828 \n",
      "Non-negative of minimum nights: 24828 \n",
      "Non-negative of number of reviews: 24828 \n",
      "Non-negative of reviews per month: 24828 \n",
      "Non-negative of number of host listings count: 24828\n"
     ]
    }
   ],
   "source": [
    "x0 = airbnbm[airbnbm.price >= 0].shape[0]\n",
    "x1 = airbnbm[airbnbm.minimum_nights >= 0].shape[0]\n",
    "x2 = airbnbm[airbnbm.number_of_reviews >= 0].shape[0]\n",
    "x3 = airbnbm[airbnbm.reviews_per_month >= 0].shape[0]\n",
    "x4 = airbnbm[airbnbm.calculated_host_listings_count >= 0].shape[0]\n",
    "print(\"Non-negative of price:\", x0, \"\\nNon-negative of minimum nights:\", x1, \"\\nNon-negative of number of reviews:\", x2, \"\\nNon-negative of reviews per month:\", x3, \"\\nNon-negative of number of host listings count:\", x4)"
   ]
  },
  {
   "cell_type": "code",
   "execution_count": 14,
   "id": "8482b04f",
   "metadata": {},
   "outputs": [
    {
     "data": {
      "text/plain": [
       "24828.0"
      ]
     },
     "execution_count": 14,
     "metadata": {},
     "output_type": "execute_result"
    }
   ],
   "source": [
    "(airbnbm[airbnbm.availability_365 >= 0].shape[0] + airbnbm[airbnbm.availability_365 <= 365].shape[0])/2"
   ]
  },
  {
   "cell_type": "markdown",
   "id": "00b92fe7",
   "metadata": {},
   "source": [
    "# Data analysis"
   ]
  },
  {
   "cell_type": "markdown",
   "id": "93f25c04",
   "metadata": {},
   "source": [
    "Explore the types of rooms and the rate of each type"
   ]
  },
  {
   "cell_type": "code",
   "execution_count": 15,
   "id": "84688721",
   "metadata": {},
   "outputs": [],
   "source": [
    "import matplotlib.pyplot as plt"
   ]
  },
  {
   "cell_type": "markdown",
   "id": "fbd81d78",
   "metadata": {},
   "source": [
    "We check for the types of rooms and we want to compare the ratio of each room type between Barcelona and Madrid."
   ]
  },
  {
   "cell_type": "code",
   "execution_count": 16,
   "id": "83b0332d",
   "metadata": {},
   "outputs": [
    {
     "data": {
      "text/plain": [
       "array(['Entire home/apt', 'Private room', 'Hotel room', 'Shared room'],\n",
       "      dtype=object)"
      ]
     },
     "execution_count": 16,
     "metadata": {},
     "output_type": "execute_result"
    }
   ],
   "source": [
    "airbnbb.room_type.unique()"
   ]
  },
  {
   "cell_type": "code",
   "execution_count": 17,
   "id": "25a7845d",
   "metadata": {},
   "outputs": [
    {
     "data": {
      "image/png": "[encoded data removed]",
      "text/plain": [
       "<Figure size 360x360 with 1 Axes>"
      ]
     },
     "metadata": {},
     "output_type": "display_data"
    }
   ],
   "source": [
    "df = airbnbb['room_type'].value_counts().plot(kind = 'pie', autopct='%1.1f%%', radius = 1.1, legend = True, labeldistance = None, ylabel = '', title = 'Percentage of room types in Barcelona', figsize = (5,5))\n",
    "df.legend(bbox_to_anchor=(1.5, 1), loc='upper right')\n",
    "plt.show()"
   ]
  },
  {
   "cell_type": "code",
   "execution_count": 18,
   "id": "c1a023fd",
   "metadata": {},
   "outputs": [
    {
     "data": {
      "image/png": "[encoded data removed]",
      "text/plain": [
       "<Figure size 360x360 with 1 Axes>"
      ]
     },
     "metadata": {},
     "output_type": "display_data"
    }
   ],
   "source": [
    "df = airbnbm['room_type'].value_counts().plot(kind = 'pie', autopct='%1.1f%%', radius = 1.1, legend = True, labeldistance = None, ylabel = '', title = 'Percentage of room types in Madrid', figsize = (5,5))\n",
    "df.legend(bbox_to_anchor=(1.5, 1), loc='upper right')\n",
    "plt.show()"
   ]
  },
  {
   "cell_type": "markdown",
   "id": "4ab8eec7",
   "metadata": {},
   "source": [
    "We can see that the sum of rates of Shared and Hotel rooms is almost the same for Barcelona and Madrid (the ratio of Shared rooms in Madrid is greater than the corresponding percentage in Barcelona) and remains low on the total number of airbnbs in general.\n",
    "\n",
    "We also see that the Entire house/apartment rate in Madrid is 4.3% higher than the corresponding rate in Barcelona. On the other hand, the Private room rate in Madrid is 4.5% lower than the corresponding rate in Barcelona."
   ]
  },
  {
   "cell_type": "code",
   "execution_count": 19,
   "id": "2f41cf7a",
   "metadata": {
    "scrolled": true
   },
   "outputs": [
    {
     "data": {
      "text/plain": [
       "Eixample               6575\n",
       "Ciutat Vella           4357\n",
       "Sants-Montjuïc         1902\n",
       "Sant Martí             1639\n",
       "Gràcia                 1571\n",
       "Sarrià-Sant Gervasi     894\n",
       "Horta-Guinardó          525\n",
       "Les Corts               369\n",
       "Sant Andreu             279\n",
       "Nou Barris              210\n",
       "Name: neighbourhood_group, dtype: int64"
      ]
     },
     "execution_count": 19,
     "metadata": {},
     "output_type": "execute_result"
    }
   ],
   "source": [
    "airbnbb.neighbourhood_group.value_counts(ascending=False)"
   ]
  },
  {
   "cell_type": "markdown",
   "id": "1bf79909",
   "metadata": {},
   "source": [
    "Find and make a bar chart with the number of airbnbs by neighbourhood. The neighbourhoods with the most airbnb accommodations are located in the city center (Eixample, Ciutat Vella, Sants-Montjuïc, Sant Martí), which makes sense since visitors and tourists to the city will want to be close to most of the city's shops, activities, etc."
   ]
  },
  {
   "cell_type": "code",
   "execution_count": 20,
   "id": "868f04ae",
   "metadata": {},
   "outputs": [
    {
     "data": {
      "image/png": "[encoded data removed]",
      "text/plain": [
       "<Figure size 540x360 with 1 Axes>"
      ]
     },
     "metadata": {
      "needs_background": "light"
     },
     "output_type": "display_data"
    }
   ],
   "source": [
    "airbnbb['neighbourhood_group'].value_counts().plot(kind = 'bar', color=['#5cb84c','#6bc3de','#c9538f', '#cb2adc', '#a10425', '#e28317', '#02bc8a', '#f6ff07', '#88d374', '#1b0cee'], figsize = (7.5,5))\n",
    "plt.title('Airbnbs by neighbourhood group')\n",
    "plt.xlabel('Neighbourhood group')\n",
    "plt.ylabel('Lisitngs')\n",
    "plt.show()"
   ]
  },
  {
   "cell_type": "markdown",
   "id": "47f599c7",
   "metadata": {},
   "source": [
    "Find top 5 hosts by the number of the listings and top 5 hosts by the sum of the price of the listings of each host."
   ]
  },
  {
   "cell_type": "code",
   "execution_count": 21,
   "id": "243a9009",
   "metadata": {},
   "outputs": [
    {
     "data": {
      "text/plain": [
       "Ukio                      318\n",
       "Enter                     271\n",
       "SweetInn                  231\n",
       "AB Apartment Barcelona    179\n",
       "Acomodis Apartments       174\n",
       "Name: host_name, dtype: int64"
      ]
     },
     "execution_count": 21,
     "metadata": {},
     "output_type": "execute_result"
    }
   ],
   "source": [
    "airbnbb.host_name.value_counts(ascending=False).nlargest(5)"
   ]
  },
  {
   "cell_type": "code",
   "execution_count": 22,
   "id": "4328e8ea",
   "metadata": {},
   "outputs": [
    {
     "data": {
      "text/plain": [
       "host_name\n",
       "Eric                      59268.0\n",
       "ONA Hotels                46000.0\n",
       "Ukio                      43597.0\n",
       "Acomodis Apartments       41781.0\n",
       "AB Apartment Barcelona    37139.0\n",
       "Name: price, dtype: float64"
      ]
     },
     "execution_count": 22,
     "metadata": {},
     "output_type": "execute_result"
    }
   ],
   "source": [
    "airbnbb.groupby('host_name')['price'].sum().nlargest(5)"
   ]
  },
  {
   "cell_type": "markdown",
   "id": "969b7397",
   "metadata": {},
   "source": [
    "As we can see from the results, 3 of the hosts are in both top 5. This could mean that hosts who have the highest prices for their rooms or/and have the most rooms doesn't necessarily have the most listings for their rooms."
   ]
  },
  {
   "cell_type": "markdown",
   "id": "12753275",
   "metadata": {},
   "source": [
    "Next, we want to see if there are more short-term or long-term rentals. From the bar graph below we can conclude that airbnb's tendency is to be short term, with 1-5 minimum nights per accommodation. However, there are also many rooms/apartments that have a minimum stay of almost 30 nights. This is probably because hosts want to protect their rooms and are looking for more guests who stay longer."
   ]
  },
  {
   "cell_type": "code",
   "execution_count": 23,
   "id": "37a4b0c1",
   "metadata": {},
   "outputs": [],
   "source": [
    "import numpy as np"
   ]
  },
  {
   "cell_type": "code",
   "execution_count": 24,
   "id": "5337c71c",
   "metadata": {},
   "outputs": [
    {
     "data": {
      "image/png": "[encoded data removed]",
      "text/plain": [
       "<Figure size 648x432 with 1 Axes>"
      ]
     },
     "metadata": {
      "needs_background": "light"
     },
     "output_type": "display_data"
    }
   ],
   "source": [
    "airbnbb[\"min_nights_grp\"] = pd.cut(airbnbb.minimum_nights, [0, 5, 10, 15, 20, 25, 30, 35, np.inf])\n",
    "labels = [\"0-5\", \"6-10\", \"11-15\", \"16-20\", \"21-25\", \"26-30\", \"31-35\", \"35+\"]\n",
    "airbnbb[\"min_nights_grp\"] = airbnbb[\"min_nights_grp\"].cat.rename_categories(labels)\n",
    "x = airbnbb.groupby('min_nights_grp').size().plot(kind = 'bar', title = 'Short-term and long-term rentals', xlabel = 'Minimum nights', ylabel = 'Listings', figsize = (9, 6))\n",
    "x.title.set_size(15)\n",
    "plt.show()"
   ]
  },
  {
   "cell_type": "markdown",
   "id": "d5eb4eb1",
   "metadata": {},
   "source": [
    "We want to compare the mean price of each room type in Barcelona and Madrid."
   ]
  },
  {
   "cell_type": "code",
   "execution_count": 25,
   "id": "cf4e9a2a",
   "metadata": {},
   "outputs": [
    {
     "data": {
      "text/plain": [
       "room_type\n",
       "Entire home/apt    141.944211\n",
       "Hotel room         156.943548\n",
       "Private room        97.090228\n",
       "Shared room         68.250000\n",
       "Name: price, dtype: float64"
      ]
     },
     "execution_count": 25,
     "metadata": {},
     "output_type": "execute_result"
    }
   ],
   "source": [
    "airbnbb.groupby('room_type')['price'].mean()"
   ]
  },
  {
   "cell_type": "code",
   "execution_count": 26,
   "id": "d75acc95",
   "metadata": {},
   "outputs": [
    {
     "data": {
      "text/plain": [
       "room_type\n",
       "Entire home/apt    155.709053\n",
       "Hotel room         223.754237\n",
       "Private room        81.437994\n",
       "Shared room        100.023881\n",
       "Name: price, dtype: float64"
      ]
     },
     "execution_count": 26,
     "metadata": {},
     "output_type": "execute_result"
    }
   ],
   "source": [
    "airbnbm.groupby('room_type')['price'].mean()"
   ]
  },
  {
   "cell_type": "code",
   "execution_count": 27,
   "id": "abd8d130",
   "metadata": {},
   "outputs": [
    {
     "data": {
      "text/plain": [
       "126.49408320876931"
      ]
     },
     "execution_count": 27,
     "metadata": {},
     "output_type": "execute_result"
    }
   ],
   "source": [
    "airbnbb['price'].mean()"
   ]
  },
  {
   "cell_type": "code",
   "execution_count": 28,
   "id": "d8c2875f",
   "metadata": {},
   "outputs": [
    {
     "data": {
      "text/plain": [
       "129.1570001611084"
      ]
     },
     "execution_count": 28,
     "metadata": {},
     "output_type": "execute_result"
    }
   ],
   "source": [
    "airbnbm['price'].mean()"
   ]
  },
  {
   "cell_type": "markdown",
   "id": "63959829",
   "metadata": {},
   "source": [
    "From the results above, we can see that, except for private rooms, the average prices are lower in Barcelona. This is something that we might have expected, beacause Madrid is the capital of Spain. However, rents may also be high in Barcelona because it is an important cultural centre and a major tourist destination and there is a greater demand for accommodation there."
   ]
  },
  {
   "cell_type": "markdown",
   "id": "4ac1be81",
   "metadata": {},
   "source": [
    "As we can see below the maximum price of a room/apartment is quite higher in Barcelona compared to Madrid."
   ]
  },
  {
   "cell_type": "code",
   "execution_count": 36,
   "id": "fe692e89",
   "metadata": {},
   "outputs": [
    {
     "data": {
      "text/plain": [
       "56815.0"
      ]
     },
     "execution_count": 36,
     "metadata": {},
     "output_type": "execute_result"
    }
   ],
   "source": [
    "airbnbb['price'].max()"
   ]
  },
  {
   "cell_type": "code",
   "execution_count": 37,
   "id": "8f0d85b0",
   "metadata": {},
   "outputs": [
    {
     "data": {
      "text/plain": [
       "21000"
      ]
     },
     "execution_count": 37,
     "metadata": {},
     "output_type": "execute_result"
    }
   ],
   "source": [
    "airbnbm['price'].max()"
   ]
  },
  {
   "cell_type": "markdown",
   "id": "0ee67dbd",
   "metadata": {},
   "source": [
    "We can display some basic stats for all the numeric columns.\n",
    "\n",
    "The mean price is almost 126.5€, but from the std (standard deviation), which is 548.5€, we can conclude that values are more spread out."
   ]
  },
  {
   "cell_type": "code",
   "execution_count": 31,
   "id": "333849fe",
   "metadata": {},
   "outputs": [
    {
     "data": {
      "text/html": [
       "<div>\n",
       "<style scoped>\n",
       "    .dataframe tbody tr th:only-of-type {\n",
       "        vertical-align: middle;\n",
       "    }\n",
       "\n",
       "    .dataframe tbody tr th {\n",
       "        vertical-align: top;\n",
       "    }\n",
       "\n",
       "    .dataframe thead th {\n",
       "        text-align: right;\n",
       "    }\n",
       "</style>\n",
       "<table border=\"1\" class=\"dataframe\">\n",
       "  <thead>\n",
       "    <tr style=\"text-align: right;\">\n",
       "      <th></th>\n",
       "      <th>id</th>\n",
       "      <th>host_id</th>\n",
       "      <th>latitude</th>\n",
       "      <th>longitude</th>\n",
       "      <th>price</th>\n",
       "      <th>minimum_nights</th>\n",
       "      <th>number_of_reviews</th>\n",
       "      <th>reviews_per_month</th>\n",
       "      <th>calculated_host_listings_count</th>\n",
       "      <th>availability_365</th>\n",
       "      <th>number_of_reviews_ltm</th>\n",
       "    </tr>\n",
       "  </thead>\n",
       "  <tbody>\n",
       "    <tr>\n",
       "      <th>count</th>\n",
       "      <td>1.832100e+04</td>\n",
       "      <td>1.832100e+04</td>\n",
       "      <td>18321.000000</td>\n",
       "      <td>18321.000000</td>\n",
       "      <td>16056.000000</td>\n",
       "      <td>18321.000000</td>\n",
       "      <td>18321.000000</td>\n",
       "      <td>18321.000000</td>\n",
       "      <td>18321.000000</td>\n",
       "      <td>18321.000000</td>\n",
       "      <td>18321.000000</td>\n",
       "    </tr>\n",
       "    <tr>\n",
       "      <th>mean</th>\n",
       "      <td>3.370245e+17</td>\n",
       "      <td>1.723186e+08</td>\n",
       "      <td>41.391914</td>\n",
       "      <td>2.166945</td>\n",
       "      <td>126.494083</td>\n",
       "      <td>14.865892</td>\n",
       "      <td>43.864309</td>\n",
       "      <td>1.098999</td>\n",
       "      <td>33.812838</td>\n",
       "      <td>171.187381</td>\n",
       "      <td>11.819933</td>\n",
       "    </tr>\n",
       "    <tr>\n",
       "      <th>std</th>\n",
       "      <td>4.184948e+17</td>\n",
       "      <td>1.766263e+08</td>\n",
       "      <td>0.014042</td>\n",
       "      <td>0.017454</td>\n",
       "      <td>548.481873</td>\n",
       "      <td>31.514680</td>\n",
       "      <td>89.887244</td>\n",
       "      <td>1.764162</td>\n",
       "      <td>66.230543</td>\n",
       "      <td>136.551292</td>\n",
       "      <td>23.855482</td>\n",
       "    </tr>\n",
       "    <tr>\n",
       "      <th>min</th>\n",
       "      <td>1.747500e+04</td>\n",
       "      <td>3.073000e+03</td>\n",
       "      <td>41.352720</td>\n",
       "      <td>2.085593</td>\n",
       "      <td>9.000000</td>\n",
       "      <td>1.000000</td>\n",
       "      <td>0.000000</td>\n",
       "      <td>0.000000</td>\n",
       "      <td>1.000000</td>\n",
       "      <td>0.000000</td>\n",
       "      <td>0.000000</td>\n",
       "    </tr>\n",
       "    <tr>\n",
       "      <th>25%</th>\n",
       "      <td>2.239606e+07</td>\n",
       "      <td>1.023157e+07</td>\n",
       "      <td>41.381010</td>\n",
       "      <td>2.156690</td>\n",
       "      <td>50.000000</td>\n",
       "      <td>1.000000</td>\n",
       "      <td>1.000000</td>\n",
       "      <td>0.020000</td>\n",
       "      <td>1.000000</td>\n",
       "      <td>13.000000</td>\n",
       "      <td>0.000000</td>\n",
       "    </tr>\n",
       "    <tr>\n",
       "      <th>50%</th>\n",
       "      <td>4.638623e+07</td>\n",
       "      <td>1.038178e+08</td>\n",
       "      <td>41.389521</td>\n",
       "      <td>2.168030</td>\n",
       "      <td>87.000000</td>\n",
       "      <td>3.000000</td>\n",
       "      <td>7.000000</td>\n",
       "      <td>0.380000</td>\n",
       "      <td>5.000000</td>\n",
       "      <td>176.000000</td>\n",
       "      <td>2.000000</td>\n",
       "    </tr>\n",
       "    <tr>\n",
       "      <th>75%</th>\n",
       "      <td>8.064681e+17</td>\n",
       "      <td>3.289379e+08</td>\n",
       "      <td>41.401320</td>\n",
       "      <td>2.177490</td>\n",
       "      <td>130.000000</td>\n",
       "      <td>31.000000</td>\n",
       "      <td>44.000000</td>\n",
       "      <td>1.650000</td>\n",
       "      <td>29.000000</td>\n",
       "      <td>310.000000</td>\n",
       "      <td>15.000000</td>\n",
       "    </tr>\n",
       "    <tr>\n",
       "      <th>max</th>\n",
       "      <td>1.045480e+18</td>\n",
       "      <td>5.496387e+08</td>\n",
       "      <td>41.459560</td>\n",
       "      <td>2.227710</td>\n",
       "      <td>56815.000000</td>\n",
       "      <td>1124.000000</td>\n",
       "      <td>1941.000000</td>\n",
       "      <td>67.300000</td>\n",
       "      <td>318.000000</td>\n",
       "      <td>365.000000</td>\n",
       "      <td>1065.000000</td>\n",
       "    </tr>\n",
       "  </tbody>\n",
       "</table>\n",
       "</div>"
      ],
      "text/plain": [
       "                 id       host_id      latitude     longitude         price  \\\n",
       "count  1.832100e+04  1.832100e+04  18321.000000  18321.000000  16056.000000   \n",
       "mean   3.370245e+17  1.723186e+08     41.391914      2.166945    126.494083   \n",
       "std    4.184948e+17  1.766263e+08      0.014042      0.017454    548.481873   \n",
       "min    1.747500e+04  3.073000e+03     41.352720      2.085593      9.000000   \n",
       "25%    2.239606e+07  1.023157e+07     41.381010      2.156690     50.000000   \n",
       "50%    4.638623e+07  1.038178e+08     41.389521      2.168030     87.000000   \n",
       "75%    8.064681e+17  3.289379e+08     41.401320      2.177490    130.000000   \n",
       "max    1.045480e+18  5.496387e+08     41.459560      2.227710  56815.000000   \n",
       "\n",
       "       minimum_nights  number_of_reviews  reviews_per_month  \\\n",
       "count    18321.000000       18321.000000       18321.000000   \n",
       "mean        14.865892          43.864309           1.098999   \n",
       "std         31.514680          89.887244           1.764162   \n",
       "min          1.000000           0.000000           0.000000   \n",
       "25%          1.000000           1.000000           0.020000   \n",
       "50%          3.000000           7.000000           0.380000   \n",
       "75%         31.000000          44.000000           1.650000   \n",
       "max       1124.000000        1941.000000          67.300000   \n",
       "\n",
       "       calculated_host_listings_count  availability_365  number_of_reviews_ltm  \n",
       "count                    18321.000000      18321.000000           18321.000000  \n",
       "mean                        33.812838        171.187381              11.819933  \n",
       "std                         66.230543        136.551292              23.855482  \n",
       "min                          1.000000          0.000000               0.000000  \n",
       "25%                          1.000000         13.000000               0.000000  \n",
       "50%                          5.000000        176.000000               2.000000  \n",
       "75%                         29.000000        310.000000              15.000000  \n",
       "max                        318.000000        365.000000            1065.000000  "
      ]
     },
     "execution_count": 31,
     "metadata": {},
     "output_type": "execute_result"
    }
   ],
   "source": [
    "airbnbb.describe()"
   ]
  },
  {
   "cell_type": "code",
   "execution_count": 32,
   "id": "9038bdab",
   "metadata": {},
   "outputs": [
    {
     "data": {
      "image/png": "[encoded data removed]",
      "text/plain": [
       "<Figure size 648x432 with 1 Axes>"
      ]
     },
     "metadata": {
      "needs_background": "light"
     },
     "output_type": "display_data"
    }
   ],
   "source": [
    "airbnbb[\"price_grp\"] = pd.cut(airbnbb.price, [0, 50, 100, 150, 200, 250, 300, np.inf])\n",
    "labels = [\"0-50\", \"51-100\", \"101-150\", \"151-200\", \"201-250\", \"251-300\", \">300\"]\n",
    "airbnbb[\"price_grp\"] = airbnbb[\"price_grp\"].cat.rename_categories(labels)\n",
    "x = airbnbb.groupby('price_grp').size().plot(kind = 'bar', title = 'Price per night of listings', xlabel = 'Price', ylabel = 'Listings', figsize = (9, 6))\n",
    "plt.show()"
   ]
  },
  {
   "cell_type": "markdown",
   "id": "db56583f",
   "metadata": {},
   "source": [
    "From the bar graph above we can see that the most listings cost <100€, but there are also a lot of listings that cost 100€-200€ and fewer, but a significant number, of listings that cost more than 200€."
   ]
  },
  {
   "cell_type": "code",
   "execution_count": null,
   "id": "05d1ed76",
   "metadata": {},
   "outputs": [],
   "source": []
  },
  {
   "cell_type": "code",
   "execution_count": null,
   "id": "63de8597",
   "metadata": {},
   "outputs": [],
   "source": []
  }
 ],
 "metadata": {
  "kernelspec": {
   "display_name": "Python 3 (ipykernel)",
   "language": "python",
   "name": "python3"
  },
  "language_info": {
   "codemirror_mode": {
    "name": "ipython",
    "version": 3
   },
   "file_extension": ".py",
   "mimetype": "text/x-python",
   "name": "python",
   "nbconvert_exporter": "python",
   "pygments_lexer": "ipython3",
   "version": "3.9.7"
  }
 },
 "nbformat": 4,
 "nbformat_minor": 5
}
